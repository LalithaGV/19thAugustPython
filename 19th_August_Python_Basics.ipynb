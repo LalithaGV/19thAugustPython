{
 "cells": [
  {
   "cell_type": "code",
   "execution_count": null,
   "id": "70a6888c-f028-4740-b9a4-cfbb4d99ba4f",
   "metadata": {},
   "outputs": [],
   "source": [
    "####Assignment 1####"
   ]
  },
  {
   "cell_type": "code",
   "execution_count": 1,
   "id": "79e74679-3833-499e-b651-32fb2c1d5091",
   "metadata": {},
   "outputs": [
    {
     "name": "stdout",
     "output_type": "stream",
     "text": [
      "Value of y is 5\n",
      "Value of x is 10\n"
     ]
    }
   ],
   "source": [
    "###Question 1###\n",
    "x = 5\n",
    "y=10\n",
    "x = x+y\n",
    "#print(x)\n",
    "y = x -y\n",
    "print(\"Value of y is\",y)\n",
    "x = x-y\n",
    "print(\"Value of x is\",x)"
   ]
  },
  {
   "cell_type": "code",
   "execution_count": 2,
   "id": "92e2ef4e-7a73-4bb6-9f66-6abf9646e39d",
   "metadata": {},
   "outputs": [
    {
     "name": "stdin",
     "output_type": "stream",
     "text": [
      "Enter the length of rectangle 3.4\n",
      "Enter the breadth of rectangle 5.6\n"
     ]
    },
    {
     "name": "stdout",
     "output_type": "stream",
     "text": [
      "the area of rectangle is 19.04\n"
     ]
    }
   ],
   "source": [
    "###Question 2###\n",
    "##Length \n",
    "length =input(\"Enter the length of rectangle\")\n",
    "##Breadth\n",
    "breadth = input(\"Enter the breadth of rectangle\")\n",
    "#Area Formula lxb\n",
    "area_of_rect = float(length) * float(breadth)\n",
    "print(\"the area of rectangle is\",area_of_rect)"
   ]
  },
  {
   "cell_type": "code",
   "execution_count": 3,
   "id": "1ea6cd24-d05e-4977-a4cb-30a07221f145",
   "metadata": {},
   "outputs": [
    {
     "name": "stdin",
     "output_type": "stream",
     "text": [
      "Enter the Temperature in Celsius: 3.4\n"
     ]
    },
    {
     "name": "stdout",
     "output_type": "stream",
     "text": [
      "Fahrenheit Value: 38.12\n"
     ]
    }
   ],
   "source": [
    "###Question 3###\n",
    "#Enter the temperature in celsius\n",
    "Cel = float(input(\"Enter the Temperature in Celsius:\"))\n",
    "#Formula to convert celsius to Fahrenheit\n",
    "fah = (1.8 * Cel) + 32.\n",
    "print(\"Fahrenheit Value:\", fah)"
   ]
  },
  {
   "cell_type": "code",
   "execution_count": 4,
   "id": "6fe80c45-852a-4dd6-9c74-3aa60138c9fd",
   "metadata": {},
   "outputs": [],
   "source": [
    "###String Based Questions"
   ]
  },
  {
   "cell_type": "code",
   "execution_count": 5,
   "id": "cfdaeb06-8779-4196-bcb9-f2363cd12a08",
   "metadata": {},
   "outputs": [
    {
     "name": "stdin",
     "output_type": "stream",
     "text": [
      "Please enter your name Lalitha\n"
     ]
    },
    {
     "name": "stdout",
     "output_type": "stream",
     "text": [
      "Length of name is 7\n"
     ]
    }
   ],
   "source": [
    "## take user name\n",
    "Name =input(\"Please enter your name\")\n",
    "output = print(\"Length of name is \" + str(len(Name)))"
   ]
  },
  {
   "cell_type": "code",
   "execution_count": 6,
   "id": "e4708304-8cfd-42fe-99d5-55e4d7a72699",
   "metadata": {},
   "outputs": [
    {
     "name": "stdin",
     "output_type": "stream",
     "text": [
      "Enter a Sentence Life is beautiful\n"
     ]
    },
    {
     "name": "stdout",
     "output_type": "stream",
     "text": [
      "Number of vowels: 8\n"
     ]
    }
   ],
   "source": [
    "## Enter a sentence\n",
    "desc = input(\"Enter a Sentence\")\n",
    "desc1 = desc.lower()\n",
    "count = 0\n",
    "for val in desc1:\n",
    "    if val in \"aeiou\":\n",
    "        count+=1\n",
    "print(\"Number of vowels:\", count)"
   ]
  },
  {
   "cell_type": "code",
   "execution_count": 7,
   "id": "27556ff2-6b14-4149-823d-cfa9f1a51d0b",
   "metadata": {},
   "outputs": [
    {
     "name": "stdin",
     "output_type": "stream",
     "text": [
      "Enter your favorite color Green\n"
     ]
    },
    {
     "name": "stdout",
     "output_type": "stream",
     "text": [
      "Reversed Character: neerG\n"
     ]
    }
   ],
   "source": [
    "## Enter a string\n",
    "a = input(\"Enter your favorite color\")\n",
    "rev_str = a[::-1]\n",
    "print(\"Reversed Character:\", rev_str)"
   ]
  },
  {
   "cell_type": "code",
   "execution_count": 10,
   "id": "eaec61b5-2752-4670-a84a-c5bfda5e8db5",
   "metadata": {},
   "outputs": [
    {
     "name": "stdin",
     "output_type": "stream",
     "text": [
      "Enter your letter Malayalam\n"
     ]
    },
    {
     "name": "stdout",
     "output_type": "stream",
     "text": [
      "The string is a palindrome\n"
     ]
    }
   ],
   "source": [
    "##Palindrome\n",
    "a =input(\"Enter your letter\").lower()\n",
    "rev_str =a[::-1]\n",
    "if a == rev_str:\n",
    "    print(\"The string is a palindrome\")\n",
    "else:\n",
    "    print(\"The string is not a palindrome\")"
   ]
  },
  {
   "cell_type": "code",
   "execution_count": 11,
   "id": "ee02f292-a196-4c2c-a1c9-da4fffb0d383",
   "metadata": {},
   "outputs": [
    {
     "name": "stdin",
     "output_type": "stream",
     "text": [
      "Enter a sentence Life is\n"
     ]
    },
    {
     "name": "stdout",
     "output_type": "stream",
     "text": [
      "Lifeis\n"
     ]
    }
   ],
   "source": [
    "##Remove Space\n",
    "name = input(\"Enter a sentence\")\n",
    "modified_string = \"\"\n",
    "for char in name:\n",
    "    if char != \" \":\n",
    "        modified_string += char\n",
    "print(modified_string)"
   ]
  },
  {
   "cell_type": "code",
   "execution_count": null,
   "id": "e85f4169-d703-4193-8a35-04d3999bee6c",
   "metadata": {},
   "outputs": [],
   "source": []
  }
 ],
 "metadata": {
  "kernelspec": {
   "display_name": "Python 3 (ipykernel)",
   "language": "python",
   "name": "python3"
  },
  "language_info": {
   "codemirror_mode": {
    "name": "ipython",
    "version": 3
   },
   "file_extension": ".py",
   "mimetype": "text/x-python",
   "name": "python",
   "nbconvert_exporter": "python",
   "pygments_lexer": "ipython3",
   "version": "3.10.8"
  }
 },
 "nbformat": 4,
 "nbformat_minor": 5
}
